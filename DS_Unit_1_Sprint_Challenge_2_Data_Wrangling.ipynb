{
  "nbformat": 4,
  "nbformat_minor": 0,
  "metadata": {
    "colab": {
      "name": "DS_Unit_1_Sprint_Challenge_2_Data_Wrangling.ipynb",
      "version": "0.3.2",
      "provenance": [],
      "collapsed_sections": [],
      "include_colab_link": true
    },
    "kernelspec": {
      "name": "python3",
      "display_name": "Python 3"
    }
  },
  "cells": [
    {
      "cell_type": "markdown",
      "metadata": {
        "id": "view-in-github",
        "colab_type": "text"
      },
      "source": [
        "<a href=\"https://colab.research.google.com/github/Granero0011/DS-Unit-1-Sprint-2-Data-Wrangling/blob/master/DS_Unit_1_Sprint_Challenge_2_Data_Wrangling.ipynb\" target=\"_parent\"><img src=\"https://colab.research.google.com/assets/colab-badge.svg\" alt=\"Open In Colab\"/></a>"
      ]
    },
    {
      "metadata": {
        "id": "4yMHi_PX9hEz",
        "colab_type": "text"
      },
      "cell_type": "markdown",
      "source": [
        "# Data Science Unit 1 Sprint Challenge 2\n",
        "\n",
        "## Data Wrangling\n",
        "\n",
        "In this Sprint Challenge you will use data from [Gapminder](https://www.gapminder.org/about-gapminder/), a Swedish non-profit co-founded by Hans Rosling. \"Gapminder produces free teaching resources making the world understandable based on reliable statistics.\"\n",
        "- [Cell phones (total), by country and year](https://raw.githubusercontent.com/open-numbers/ddf--gapminder--systema_globalis/master/ddf--datapoints--cell_phones_total--by--geo--time.csv)\n",
        "- [Population (total), by country and year](https://raw.githubusercontent.com/open-numbers/ddf--gapminder--systema_globalis/master/ddf--datapoints--population_total--by--geo--time.csv)\n",
        "- [Geo country codes](https://github.com/open-numbers/ddf--gapminder--systema_globalis/blob/master/ddf--entities--geo--country.csv)\n",
        "\n",
        "These two links have everything you need to successfully complete the Sprint Challenge!\n",
        "- [Pandas documentation: Working with Text Data](https://pandas.pydata.org/pandas-docs/stable/text.html]) (one question)\n",
        "- [Pandas Cheat Sheet](https://github.com/pandas-dev/pandas/blob/master/doc/cheatsheet/Pandas_Cheat_Sheet.pdf) (everything else)"
      ]
    },
    {
      "metadata": {
        "id": "wWEU2GemX68A",
        "colab_type": "text"
      },
      "cell_type": "markdown",
      "source": [
        "## Part 0. Load data\n",
        "\n",
        "You don't need to add or change anything here. Just run this cell and it loads the data for you, into three dataframes."
      ]
    },
    {
      "metadata": {
        "id": "bxKtSi5sRQOl",
        "colab_type": "code",
        "colab": {}
      },
      "cell_type": "code",
      "source": [
        "import pandas as pd\n",
        "\n",
        "cell_phones = pd.read_csv('https://raw.githubusercontent.com/open-numbers/ddf--gapminder--systema_globalis/master/ddf--datapoints--cell_phones_total--by--geo--time.csv')\n",
        "\n",
        "population = pd.read_csv('https://raw.githubusercontent.com/open-numbers/ddf--gapminder--systema_globalis/master/ddf--datapoints--population_total--by--geo--time.csv')\n",
        "\n",
        "geo_country_codes = (pd.read_csv('https://raw.githubusercontent.com/open-numbers/ddf--gapminder--systema_globalis/master/ddf--entities--geo--country.csv')\n",
        "                       .rename(columns={'country': 'geo', 'name': 'country'}))"
      ],
      "execution_count": 0,
      "outputs": []
    },
    {
      "metadata": {
        "id": "AZmVTeCsX9RC",
        "colab_type": "text"
      },
      "cell_type": "markdown",
      "source": [
        "## Part 1. Join data"
      ]
    },
    {
      "metadata": {
        "id": "GLzX58u4SfEy",
        "colab_type": "text"
      },
      "cell_type": "markdown",
      "source": [
        "First, join the `cell_phones` and `population` dataframes (with an inner join on `geo` and `time`).\n",
        "\n",
        "The resulting dataframe's shape should be: (8590, 4)"
      ]
    },
    {
      "metadata": {
        "id": "GVV7Hnj4SXBa",
        "colab_type": "code",
        "colab": {
          "base_uri": "https://localhost:8080/",
          "height": 204
        },
        "outputId": "fde74ee0-42c3-495c-8ce5-43da44c7c908"
      },
      "cell_type": "code",
      "source": [
        "cell_phones.head()"
      ],
      "execution_count": 2,
      "outputs": [
        {
          "output_type": "execute_result",
          "data": {
            "text/html": [
              "<div>\n",
              "<style scoped>\n",
              "    .dataframe tbody tr th:only-of-type {\n",
              "        vertical-align: middle;\n",
              "    }\n",
              "\n",
              "    .dataframe tbody tr th {\n",
              "        vertical-align: top;\n",
              "    }\n",
              "\n",
              "    .dataframe thead th {\n",
              "        text-align: right;\n",
              "    }\n",
              "</style>\n",
              "<table border=\"1\" class=\"dataframe\">\n",
              "  <thead>\n",
              "    <tr style=\"text-align: right;\">\n",
              "      <th></th>\n",
              "      <th>geo</th>\n",
              "      <th>time</th>\n",
              "      <th>cell_phones_total</th>\n",
              "    </tr>\n",
              "  </thead>\n",
              "  <tbody>\n",
              "    <tr>\n",
              "      <th>0</th>\n",
              "      <td>abw</td>\n",
              "      <td>1960</td>\n",
              "      <td>0.0</td>\n",
              "    </tr>\n",
              "    <tr>\n",
              "      <th>1</th>\n",
              "      <td>abw</td>\n",
              "      <td>1965</td>\n",
              "      <td>0.0</td>\n",
              "    </tr>\n",
              "    <tr>\n",
              "      <th>2</th>\n",
              "      <td>abw</td>\n",
              "      <td>1970</td>\n",
              "      <td>0.0</td>\n",
              "    </tr>\n",
              "    <tr>\n",
              "      <th>3</th>\n",
              "      <td>abw</td>\n",
              "      <td>1975</td>\n",
              "      <td>0.0</td>\n",
              "    </tr>\n",
              "    <tr>\n",
              "      <th>4</th>\n",
              "      <td>abw</td>\n",
              "      <td>1976</td>\n",
              "      <td>0.0</td>\n",
              "    </tr>\n",
              "  </tbody>\n",
              "</table>\n",
              "</div>"
            ],
            "text/plain": [
              "   geo  time  cell_phones_total\n",
              "0  abw  1960                0.0\n",
              "1  abw  1965                0.0\n",
              "2  abw  1970                0.0\n",
              "3  abw  1975                0.0\n",
              "4  abw  1976                0.0"
            ]
          },
          "metadata": {
            "tags": []
          },
          "execution_count": 2
        }
      ]
    },
    {
      "metadata": {
        "id": "AkxI0PDHYO5R",
        "colab_type": "code",
        "colab": {
          "base_uri": "https://localhost:8080/",
          "height": 204
        },
        "outputId": "f1aff4d3-3da1-45d9-ad75-1646938d0b6f"
      },
      "cell_type": "code",
      "source": [
        "population.head()"
      ],
      "execution_count": 3,
      "outputs": [
        {
          "output_type": "execute_result",
          "data": {
            "text/html": [
              "<div>\n",
              "<style scoped>\n",
              "    .dataframe tbody tr th:only-of-type {\n",
              "        vertical-align: middle;\n",
              "    }\n",
              "\n",
              "    .dataframe tbody tr th {\n",
              "        vertical-align: top;\n",
              "    }\n",
              "\n",
              "    .dataframe thead th {\n",
              "        text-align: right;\n",
              "    }\n",
              "</style>\n",
              "<table border=\"1\" class=\"dataframe\">\n",
              "  <thead>\n",
              "    <tr style=\"text-align: right;\">\n",
              "      <th></th>\n",
              "      <th>geo</th>\n",
              "      <th>time</th>\n",
              "      <th>population_total</th>\n",
              "    </tr>\n",
              "  </thead>\n",
              "  <tbody>\n",
              "    <tr>\n",
              "      <th>0</th>\n",
              "      <td>afg</td>\n",
              "      <td>1800</td>\n",
              "      <td>3280000</td>\n",
              "    </tr>\n",
              "    <tr>\n",
              "      <th>1</th>\n",
              "      <td>afg</td>\n",
              "      <td>1801</td>\n",
              "      <td>3280000</td>\n",
              "    </tr>\n",
              "    <tr>\n",
              "      <th>2</th>\n",
              "      <td>afg</td>\n",
              "      <td>1802</td>\n",
              "      <td>3280000</td>\n",
              "    </tr>\n",
              "    <tr>\n",
              "      <th>3</th>\n",
              "      <td>afg</td>\n",
              "      <td>1803</td>\n",
              "      <td>3280000</td>\n",
              "    </tr>\n",
              "    <tr>\n",
              "      <th>4</th>\n",
              "      <td>afg</td>\n",
              "      <td>1804</td>\n",
              "      <td>3280000</td>\n",
              "    </tr>\n",
              "  </tbody>\n",
              "</table>\n",
              "</div>"
            ],
            "text/plain": [
              "   geo  time  population_total\n",
              "0  afg  1800           3280000\n",
              "1  afg  1801           3280000\n",
              "2  afg  1802           3280000\n",
              "3  afg  1803           3280000\n",
              "4  afg  1804           3280000"
            ]
          },
          "metadata": {
            "tags": []
          },
          "execution_count": 3
        }
      ]
    },
    {
      "metadata": {
        "id": "aTcpoF_AYYwa",
        "colab_type": "code",
        "colab": {
          "base_uri": "https://localhost:8080/",
          "height": 34
        },
        "outputId": "db898d8f-653d-4dd4-e8fe-b3f09f0060cb"
      },
      "cell_type": "code",
      "source": [
        "jointtable = pd.merge(cell_phones[[\"cell_phones_total\",'geo', 'time']], \n",
        "              population[['geo','time', 'population_total']])\n",
        "jointtable.shape"
      ],
      "execution_count": 5,
      "outputs": [
        {
          "output_type": "execute_result",
          "data": {
            "text/plain": [
              "(8590, 4)"
            ]
          },
          "metadata": {
            "tags": []
          },
          "execution_count": 5
        }
      ]
    },
    {
      "metadata": {
        "id": "xsXpDbwwW241",
        "colab_type": "text"
      },
      "cell_type": "markdown",
      "source": [
        "Then, select the `geo` and `country` columns from the `geo_country_codes` dataframe, and join with your population and cell phone data.\n",
        "\n",
        "The resulting dataframe's shape should be: (8590, 5)"
      ]
    },
    {
      "metadata": {
        "id": "Q2LaZta_W2CE",
        "colab_type": "code",
        "colab": {
          "base_uri": "https://localhost:8080/",
          "height": 204
        },
        "outputId": "a6a970a9-9552-4076-bd53-600005d1df0c"
      },
      "cell_type": "code",
      "source": [
        "jointtable.head()"
      ],
      "execution_count": 6,
      "outputs": [
        {
          "output_type": "execute_result",
          "data": {
            "text/html": [
              "<div>\n",
              "<style scoped>\n",
              "    .dataframe tbody tr th:only-of-type {\n",
              "        vertical-align: middle;\n",
              "    }\n",
              "\n",
              "    .dataframe tbody tr th {\n",
              "        vertical-align: top;\n",
              "    }\n",
              "\n",
              "    .dataframe thead th {\n",
              "        text-align: right;\n",
              "    }\n",
              "</style>\n",
              "<table border=\"1\" class=\"dataframe\">\n",
              "  <thead>\n",
              "    <tr style=\"text-align: right;\">\n",
              "      <th></th>\n",
              "      <th>cell_phones_total</th>\n",
              "      <th>geo</th>\n",
              "      <th>time</th>\n",
              "      <th>population_total</th>\n",
              "    </tr>\n",
              "  </thead>\n",
              "  <tbody>\n",
              "    <tr>\n",
              "      <th>0</th>\n",
              "      <td>0.0</td>\n",
              "      <td>afg</td>\n",
              "      <td>1960</td>\n",
              "      <td>8996351</td>\n",
              "    </tr>\n",
              "    <tr>\n",
              "      <th>1</th>\n",
              "      <td>0.0</td>\n",
              "      <td>afg</td>\n",
              "      <td>1965</td>\n",
              "      <td>9938414</td>\n",
              "    </tr>\n",
              "    <tr>\n",
              "      <th>2</th>\n",
              "      <td>0.0</td>\n",
              "      <td>afg</td>\n",
              "      <td>1970</td>\n",
              "      <td>11126123</td>\n",
              "    </tr>\n",
              "    <tr>\n",
              "      <th>3</th>\n",
              "      <td>0.0</td>\n",
              "      <td>afg</td>\n",
              "      <td>1975</td>\n",
              "      <td>12590286</td>\n",
              "    </tr>\n",
              "    <tr>\n",
              "      <th>4</th>\n",
              "      <td>0.0</td>\n",
              "      <td>afg</td>\n",
              "      <td>1976</td>\n",
              "      <td>12840299</td>\n",
              "    </tr>\n",
              "  </tbody>\n",
              "</table>\n",
              "</div>"
            ],
            "text/plain": [
              "   cell_phones_total  geo  time  population_total\n",
              "0                0.0  afg  1960           8996351\n",
              "1                0.0  afg  1965           9938414\n",
              "2                0.0  afg  1970          11126123\n",
              "3                0.0  afg  1975          12590286\n",
              "4                0.0  afg  1976          12840299"
            ]
          },
          "metadata": {
            "tags": []
          },
          "execution_count": 6
        }
      ]
    },
    {
      "metadata": {
        "id": "xvD5MXlgZtAm",
        "colab_type": "code",
        "colab": {}
      },
      "cell_type": "code",
      "source": [
        "jointtable2 = pd.merge(jointtable[[\"cell_phones_total\",'population_total','time','geo']], \n",
        "              geo_country_codes[['geo','country']])"
      ],
      "execution_count": 0,
      "outputs": []
    },
    {
      "metadata": {
        "id": "8RKkjJoIaJVW",
        "colab_type": "code",
        "colab": {
          "base_uri": "https://localhost:8080/",
          "height": 34
        },
        "outputId": "93b7d76b-08c5-4cbf-fd32-a1653d99805d"
      },
      "cell_type": "code",
      "source": [
        "jointtable2.shape"
      ],
      "execution_count": 8,
      "outputs": [
        {
          "output_type": "execute_result",
          "data": {
            "text/plain": [
              "(8590, 5)"
            ]
          },
          "metadata": {
            "tags": []
          },
          "execution_count": 8
        }
      ]
    },
    {
      "metadata": {
        "id": "SxtIkqBpaUee",
        "colab_type": "code",
        "colab": {
          "base_uri": "https://localhost:8080/",
          "height": 1105
        },
        "outputId": "49dd6482-3151-4189-cd26-5b62b6cb4f29"
      },
      "cell_type": "code",
      "source": [
        "print(jointtable2)"
      ],
      "execution_count": 9,
      "outputs": [
        {
          "output_type": "stream",
          "text": [
            "      cell_phones_total  population_total  time  geo      country\n",
            "0                   0.0           8996351  1960  afg  Afghanistan\n",
            "1                   0.0           9938414  1965  afg  Afghanistan\n",
            "2                   0.0          11126123  1970  afg  Afghanistan\n",
            "3                   0.0          12590286  1975  afg  Afghanistan\n",
            "4                   0.0          12840299  1976  afg  Afghanistan\n",
            "5                   0.0          13067538  1977  afg  Afghanistan\n",
            "6                   0.0          13237734  1978  afg  Afghanistan\n",
            "7                   0.0          13306695  1979  afg  Afghanistan\n",
            "8                   0.0          13248370  1980  afg  Afghanistan\n",
            "9                   0.0          13053954  1981  afg  Afghanistan\n",
            "10                  0.0          12749645  1982  afg  Afghanistan\n",
            "11                  0.0          12389269  1983  afg  Afghanistan\n",
            "12                  0.0          12047115  1984  afg  Afghanistan\n",
            "13                  0.0          11783050  1985  afg  Afghanistan\n",
            "14                  0.0          11601041  1986  afg  Afghanistan\n",
            "15                  0.0          11502761  1987  afg  Afghanistan\n",
            "16                  0.0          11540888  1988  afg  Afghanistan\n",
            "17                  0.0          11777609  1989  afg  Afghanistan\n",
            "18                  0.0          12249114  1990  afg  Afghanistan\n",
            "19                  0.0          12993657  1991  afg  Afghanistan\n",
            "20                  0.0          13981231  1992  afg  Afghanistan\n",
            "21                  0.0          15095099  1993  afg  Afghanistan\n",
            "22                  0.0          16172719  1994  afg  Afghanistan\n",
            "23                  0.0          17099541  1995  afg  Afghanistan\n",
            "24                  0.0          17822884  1996  afg  Afghanistan\n",
            "25                  0.0          18381605  1997  afg  Afghanistan\n",
            "26                  0.0          18863999  1998  afg  Afghanistan\n",
            "27                  0.0          19403676  1999  afg  Afghanistan\n",
            "28                  0.0          20093756  2000  afg  Afghanistan\n",
            "29                  0.0          20966463  2001  afg  Afghanistan\n",
            "...                 ...               ...   ...  ...          ...\n",
            "8560                0.0           9604302  1988  zwe     Zimbabwe\n",
            "8561                0.0           9902540  1989  zwe     Zimbabwe\n",
            "8562                0.0          10183113  1990  zwe     Zimbabwe\n",
            "8563                0.0          10443043  1991  zwe     Zimbabwe\n",
            "8564                0.0          10682868  1992  zwe     Zimbabwe\n",
            "8565                0.0          10905756  1993  zwe     Zimbabwe\n",
            "8566                0.0          11116948  1994  zwe     Zimbabwe\n",
            "8567                0.0          11320346  1995  zwe     Zimbabwe\n",
            "8568                0.0          11518262  1996  zwe     Zimbabwe\n",
            "8569             5734.0          11709997  1997  zwe     Zimbabwe\n",
            "8570            19000.0          11893272  1998  zwe     Zimbabwe\n",
            "8571           174000.0          12064537  1999  zwe     Zimbabwe\n",
            "8572           266441.0          12222251  2000  zwe     Zimbabwe\n",
            "8573           314002.0          12366165  2001  zwe     Zimbabwe\n",
            "8574           338779.0          12500525  2002  zwe     Zimbabwe\n",
            "8575           363651.0          12633897  2003  zwe     Zimbabwe\n",
            "8576           425745.0          12777511  2004  zwe     Zimbabwe\n",
            "8577           647110.0          12940032  2005  zwe     Zimbabwe\n",
            "8578           849146.0          13124267  2006  zwe     Zimbabwe\n",
            "8579          1225654.0          13329909  2007  zwe     Zimbabwe\n",
            "8580          1654721.0          13558469  2008  zwe     Zimbabwe\n",
            "8581          3991000.0          13810599  2009  zwe     Zimbabwe\n",
            "8582          7700000.0          14086317  2010  zwe     Zimbabwe\n",
            "8583          9200000.0          14386649  2011  zwe     Zimbabwe\n",
            "8584         12613935.0          14710826  2012  zwe     Zimbabwe\n",
            "8585         13633167.0          15054506  2013  zwe     Zimbabwe\n",
            "8586         11798652.0          15411675  2014  zwe     Zimbabwe\n",
            "8587         12757410.0          15777451  2015  zwe     Zimbabwe\n",
            "8588         12878926.0          16150362  2016  zwe     Zimbabwe\n",
            "8589         14092104.0          16529904  2017  zwe     Zimbabwe\n",
            "\n",
            "[8590 rows x 5 columns]\n"
          ],
          "name": "stdout"
        }
      ]
    },
    {
      "metadata": {
        "id": "oK96Uj7vYjFX",
        "colab_type": "text"
      },
      "cell_type": "markdown",
      "source": [
        "## Part 2. Make features"
      ]
    },
    {
      "metadata": {
        "id": "AD2fBNrOYzCG",
        "colab_type": "text"
      },
      "cell_type": "markdown",
      "source": [
        "Calculate the number of cell phones per person, and add this column onto your dataframe.\n",
        "\n",
        "(You've calculated correctly if you get 1.220 cell phones per person in the United States in 2017.)"
      ]
    },
    {
      "metadata": {
        "id": "wXI9nQthYnFK",
        "colab_type": "code",
        "colab": {
          "base_uri": "https://localhost:8080/",
          "height": 102
        },
        "outputId": "e4b4eedd-8a57-48fd-ae8a-3d163db92483"
      },
      "cell_type": "code",
      "source": [
        "import numpy as np\n",
        "jointtable2['cell_phones_per_person']=pd.Series(np.random.randn(len(jointtable2[\"cell_phones_total\"])), index=jointtable2.index)\n",
        "for x in range (0, len(jointtable2['cell_phones_per_person'])):\n",
        "  jointtable2['cell_phones_per_person'][x]=jointtable2[\"cell_phones_total\"][x]/jointtable2['population_total'][x]"
      ],
      "execution_count": 0,
      "outputs": [
        {
          "output_type": "stream",
          "text": [
            "/usr/local/lib/python3.6/dist-packages/ipykernel_launcher.py:4: SettingWithCopyWarning: \n",
            "A value is trying to be set on a copy of a slice from a DataFrame\n",
            "\n",
            "See the caveats in the documentation: http://pandas.pydata.org/pandas-docs/stable/indexing.html#indexing-view-versus-copy\n",
            "  after removing the cwd from sys.path.\n"
          ],
          "name": "stderr"
        }
      ]
    },
    {
      "metadata": {
        "id": "f0AEpxN-bo9m",
        "colab_type": "code",
        "colab": {}
      },
      "cell_type": "code",
      "source": [
        ""
      ],
      "execution_count": 0,
      "outputs": []
    },
    {
      "metadata": {
        "id": "S3QFdsnRZMH6",
        "colab_type": "text"
      },
      "cell_type": "markdown",
      "source": [
        "Modify the `geo` column to make the geo codes uppercase instead of lowercase."
      ]
    },
    {
      "metadata": {
        "id": "93ADij8_YkOq",
        "colab_type": "code",
        "colab": {
          "base_uri": "https://localhost:8080/",
          "height": 119
        },
        "outputId": "fdf6e469-312b-45c6-ef32-9e4c968f025a"
      },
      "cell_type": "code",
      "source": [
        "jointtable2['geo']=jointtable2['geo'].str.title()\n",
        "print(jointtable2.head())"
      ],
      "execution_count": 11,
      "outputs": [
        {
          "output_type": "stream",
          "text": [
            "   cell_phones_total  population_total  time  geo      country\n",
            "0                0.0           8996351  1960  Afg  Afghanistan\n",
            "1                0.0           9938414  1965  Afg  Afghanistan\n",
            "2                0.0          11126123  1970  Afg  Afghanistan\n",
            "3                0.0          12590286  1975  Afg  Afghanistan\n",
            "4                0.0          12840299  1976  Afg  Afghanistan\n"
          ],
          "name": "stdout"
        }
      ]
    },
    {
      "metadata": {
        "id": "hlPDAFCfaF6C",
        "colab_type": "text"
      },
      "cell_type": "markdown",
      "source": [
        "## Part 3. Process data"
      ]
    },
    {
      "metadata": {
        "id": "k-pudNWve2SQ",
        "colab_type": "text"
      },
      "cell_type": "markdown",
      "source": [
        "Use the describe function, to describe your dataframe's numeric columns, and then its non-numeric columns.\n",
        "\n",
        "(You'll see the time period ranges from 1960 to 2017, and there are 195 unique countries represented.)"
      ]
    },
    {
      "metadata": {
        "id": "g26yemKre2Cu",
        "colab_type": "code",
        "colab": {
          "base_uri": "https://localhost:8080/",
          "height": 170
        },
        "outputId": "811c2794-c9c5-4d26-e71f-5ac45c451ae4"
      },
      "cell_type": "code",
      "source": [
        "jointtable2['cell_phones_total'].describe()"
      ],
      "execution_count": 13,
      "outputs": [
        {
          "output_type": "execute_result",
          "data": {
            "text/plain": [
              "count    8.590000e+03\n",
              "mean     9.004950e+06\n",
              "std      5.573408e+07\n",
              "min      0.000000e+00\n",
              "25%      0.000000e+00\n",
              "50%      6.200000e+03\n",
              "75%      1.697652e+06\n",
              "max      1.474097e+09\n",
              "Name: cell_phones_total, dtype: float64"
            ]
          },
          "metadata": {
            "tags": []
          },
          "execution_count": 13
        }
      ]
    },
    {
      "metadata": {
        "id": "dHVOPJrOgyyU",
        "colab_type": "code",
        "colab": {
          "base_uri": "https://localhost:8080/",
          "height": 1071
        },
        "outputId": "f9d05b9a-1f37-42b1-c358-77a51cd56444"
      },
      "cell_type": "code",
      "source": [
        "jointtable2['cell_phones_total'].value_counts()"
      ],
      "execution_count": 19,
      "outputs": [
        {
          "output_type": "execute_result",
          "data": {
            "text/plain": [
              "0.0           3755\n",
              "5000.0           9\n",
              "300.0            9\n",
              "30000.0          9\n",
              "1500.0           8\n",
              "2500.0           7\n",
              "25000.0          7\n",
              "10000.0          7\n",
              "1000.0           7\n",
              "15000.0          7\n",
              "500.0            6\n",
              "3500.0           6\n",
              "4000.0           6\n",
              "200000.0         6\n",
              "100000.0         5\n",
              "150000.0         5\n",
              "12000.0          5\n",
              "2300.0           5\n",
              "1200.0           5\n",
              "20000.0          5\n",
              "75000.0          5\n",
              "700.0            4\n",
              "2200.0           4\n",
              "65000.0          4\n",
              "2000.0           4\n",
              "1300.0           4\n",
              "6500.0           4\n",
              "2000000.0        4\n",
              "600000.0         4\n",
              "80000.0          4\n",
              "              ... \n",
              "2020637.0        1\n",
              "1698536.0        1\n",
              "1370.0           1\n",
              "8618.0           1\n",
              "23940973.0       1\n",
              "211614.0         1\n",
              "93666088.0       1\n",
              "87000.0          1\n",
              "977521.0         1\n",
              "993902.0         1\n",
              "12494391.0       1\n",
              "23270.0          1\n",
              "8562000.0        1\n",
              "13633167.0       1\n",
              "135000.0         1\n",
              "6378095.0        1\n",
              "8068.0           1\n",
              "24402.0          1\n",
              "236175.0         1\n",
              "28190.0          1\n",
              "1026611.0        1\n",
              "447769.0         1\n",
              "33880.0          1\n",
              "3713190.0        1\n",
              "1070154.0        1\n",
              "649764.0         1\n",
              "3254410.0        1\n",
              "3713137.0        1\n",
              "8343717.0        1\n",
              "581700.0         1\n",
              "Name: cell_phones_total, Length: 4491, dtype: int64"
            ]
          },
          "metadata": {
            "tags": []
          },
          "execution_count": 19
        }
      ]
    },
    {
      "metadata": {
        "id": "nYiDLw0OghEb",
        "colab_type": "code",
        "colab": {
          "base_uri": "https://localhost:8080/",
          "height": 170
        },
        "outputId": "79ded530-a0b9-473f-8ac5-4c1c37901711"
      },
      "cell_type": "code",
      "source": [
        "jointtable2['population_total'].describe()"
      ],
      "execution_count": 14,
      "outputs": [
        {
          "output_type": "execute_result",
          "data": {
            "text/plain": [
              "count    8.590000e+03\n",
              "mean     2.983823e+07\n",
              "std      1.161284e+08\n",
              "min      4.433000e+03\n",
              "25%      1.456148e+06\n",
              "50%      5.725062e+06\n",
              "75%      1.810581e+07\n",
              "max      1.409517e+09\n",
              "Name: population_total, dtype: float64"
            ]
          },
          "metadata": {
            "tags": []
          },
          "execution_count": 14
        }
      ]
    },
    {
      "metadata": {
        "id": "9vlADETmhDqv",
        "colab_type": "code",
        "colab": {
          "base_uri": "https://localhost:8080/",
          "height": 170
        },
        "outputId": "2c1351c6-a94f-4895-b3df-37d22d08e0b0"
      },
      "cell_type": "code",
      "source": [
        "jointtable2['population_total'].value_counts().describe()"
      ],
      "execution_count": 18,
      "outputs": [
        {
          "output_type": "execute_result",
          "data": {
            "text/plain": [
              "count    8589.000000\n",
              "mean        1.000116\n",
              "std         0.010790\n",
              "min         1.000000\n",
              "25%         1.000000\n",
              "50%         1.000000\n",
              "75%         1.000000\n",
              "max         2.000000\n",
              "Name: population_total, dtype: float64"
            ]
          },
          "metadata": {
            "tags": []
          },
          "execution_count": 18
        }
      ]
    },
    {
      "metadata": {
        "id": "14VQ7d2XhJ5O",
        "colab_type": "code",
        "colab": {
          "base_uri": "https://localhost:8080/",
          "height": 170
        },
        "outputId": "974da5bc-0583-44d1-fa04-add05206c25b"
      },
      "cell_type": "code",
      "source": [
        "jointtable2['time'].describe()"
      ],
      "execution_count": 20,
      "outputs": [
        {
          "output_type": "execute_result",
          "data": {
            "text/plain": [
              "count    8590.000000\n",
              "mean     1994.193481\n",
              "std        14.257975\n",
              "min      1960.000000\n",
              "25%      1983.000000\n",
              "50%      1995.000000\n",
              "75%      2006.000000\n",
              "max      2017.000000\n",
              "Name: time, dtype: float64"
            ]
          },
          "metadata": {
            "tags": []
          },
          "execution_count": 20
        }
      ]
    },
    {
      "metadata": {
        "id": "r28m6NKWhbQS",
        "colab_type": "code",
        "colab": {
          "base_uri": "https://localhost:8080/",
          "height": 34
        },
        "outputId": "0ffcf793-ba97-4add-fc09-07aff6be234b"
      },
      "cell_type": "code",
      "source": [
        "jointtable2['time'].value_counts()\n",
        "print(len(jointtable2['time'].value_counts()))"
      ],
      "execution_count": 24,
      "outputs": [
        {
          "output_type": "stream",
          "text": [
            "46\n"
          ],
          "name": "stdout"
        }
      ]
    },
    {
      "metadata": {
        "id": "pmtl2hQ0hul-",
        "colab_type": "code",
        "colab": {
          "base_uri": "https://localhost:8080/",
          "height": 102
        },
        "outputId": "91c7a360-a095-4b7d-dd3a-688eec44722b"
      },
      "cell_type": "code",
      "source": [
        "jointtable2['geo'].describe()"
      ],
      "execution_count": 25,
      "outputs": [
        {
          "output_type": "execute_result",
          "data": {
            "text/plain": [
              "count     8590\n",
              "unique     195\n",
              "top        Lux\n",
              "freq        46\n",
              "Name: geo, dtype: object"
            ]
          },
          "metadata": {
            "tags": []
          },
          "execution_count": 25
        }
      ]
    },
    {
      "metadata": {
        "id": "H3-4cm3ih4xr",
        "colab_type": "code",
        "colab": {
          "base_uri": "https://localhost:8080/",
          "height": 102
        },
        "outputId": "25cdb71e-9b62-4067-8cff-467a8785c50f"
      },
      "cell_type": "code",
      "source": [
        "jointtable2['country'].describe()"
      ],
      "execution_count": 26,
      "outputs": [
        {
          "output_type": "execute_result",
          "data": {
            "text/plain": [
              "count        8590\n",
              "unique        195\n",
              "top       Romania\n",
              "freq           46\n",
              "Name: country, dtype: object"
            ]
          },
          "metadata": {
            "tags": []
          },
          "execution_count": 26
        }
      ]
    },
    {
      "metadata": {
        "id": "zALg-RrYaLcI",
        "colab_type": "text"
      },
      "cell_type": "markdown",
      "source": [
        "In 2017, what were the top 5 countries with the most cell phones total?\n",
        "\n",
        "Your list of countries should have these totals:\n",
        "\n",
        "| country | cell phones total |\n",
        "|:-------:|:-----------------:|\n",
        "|    ?    |     1,474,097,000 |\n",
        "|    ?    |     1,168,902,277 |\n",
        "|    ?    |       458,923,202 |\n",
        "|    ?    |       395,881,000 |\n",
        "|    ?    |       236,488,548 |\n",
        "\n"
      ]
    },
    {
      "metadata": {
        "id": "JdlWvezHaZxD",
        "colab_type": "code",
        "colab": {}
      },
      "cell_type": "code",
      "source": [
        "# This optional code formats float numbers with comma separators\n",
        "pd.options.display.float_format = '{:,}'.format"
      ],
      "execution_count": 0,
      "outputs": []
    },
    {
      "metadata": {
        "id": "smX8vzu4cyju",
        "colab_type": "code",
        "colab": {
          "base_uri": "https://localhost:8080/",
          "height": 129
        },
        "outputId": "06516f8f-b823-46eb-861c-1a0fb731441a"
      },
      "cell_type": "code",
      "source": [
        "df = pd.DataFrame([jointtable2['country'], jointtable2['cell_phones_total']],columns='cell_phones_total','country')\n",
        "df.head()"
      ],
      "execution_count": 40,
      "outputs": [
        {
          "output_type": "error",
          "ename": "SyntaxError",
          "evalue": "ignored",
          "traceback": [
            "\u001b[0;36m  File \u001b[0;32m\"<ipython-input-40-89e10c7eab7f>\"\u001b[0;36m, line \u001b[0;32m1\u001b[0m\n\u001b[0;31m    df = pd.DataFrame([jointtable2['country'], jointtable2['cell_phones_total']],columns='cell_phones_total','country')\u001b[0m\n\u001b[0m                                                                                                            ^\u001b[0m\n\u001b[0;31mSyntaxError\u001b[0m\u001b[0;31m:\u001b[0m positional argument follows keyword argument\n"
          ]
        }
      ]
    },
    {
      "metadata": {
        "id": "e6B-lVCzlvf6",
        "colab_type": "code",
        "colab": {
          "base_uri": "https://localhost:8080/",
          "height": 282
        },
        "outputId": "36cb729b-cf0b-4e9c-b6ef-006d2b07cbfa"
      },
      "cell_type": "code",
      "source": [
        "df"
      ],
      "execution_count": 38,
      "outputs": [
        {
          "output_type": "error",
          "ename": "AttributeError",
          "evalue": "ignored",
          "traceback": [
            "\u001b[0;31m---------------------------------------------------------------------------\u001b[0m",
            "\u001b[0;31mAttributeError\u001b[0m                            Traceback (most recent call last)",
            "\u001b[0;32m<ipython-input-38-986e25863b45>\u001b[0m in \u001b[0;36m<module>\u001b[0;34m()\u001b[0m\n\u001b[0;32m----> 1\u001b[0;31m \u001b[0mdf\u001b[0m\u001b[0;34m.\u001b[0m\u001b[0mvalue_counts\u001b[0m\u001b[0;34m(\u001b[0m\u001b[0;34m)\u001b[0m\u001b[0;34m\u001b[0m\u001b[0;34m\u001b[0m\u001b[0m\n\u001b[0m",
            "\u001b[0;32m/usr/local/lib/python3.6/dist-packages/pandas/core/generic.py\u001b[0m in \u001b[0;36m__getattr__\u001b[0;34m(self, name)\u001b[0m\n\u001b[1;32m   3612\u001b[0m             \u001b[0;32mif\u001b[0m \u001b[0mname\u001b[0m \u001b[0;32min\u001b[0m \u001b[0mself\u001b[0m\u001b[0;34m.\u001b[0m\u001b[0m_info_axis\u001b[0m\u001b[0;34m:\u001b[0m\u001b[0;34m\u001b[0m\u001b[0;34m\u001b[0m\u001b[0m\n\u001b[1;32m   3613\u001b[0m                 \u001b[0;32mreturn\u001b[0m \u001b[0mself\u001b[0m\u001b[0;34m[\u001b[0m\u001b[0mname\u001b[0m\u001b[0;34m]\u001b[0m\u001b[0;34m\u001b[0m\u001b[0;34m\u001b[0m\u001b[0m\n\u001b[0;32m-> 3614\u001b[0;31m             \u001b[0;32mreturn\u001b[0m \u001b[0mobject\u001b[0m\u001b[0;34m.\u001b[0m\u001b[0m__getattribute__\u001b[0m\u001b[0;34m(\u001b[0m\u001b[0mself\u001b[0m\u001b[0;34m,\u001b[0m \u001b[0mname\u001b[0m\u001b[0;34m)\u001b[0m\u001b[0;34m\u001b[0m\u001b[0;34m\u001b[0m\u001b[0m\n\u001b[0m\u001b[1;32m   3615\u001b[0m \u001b[0;34m\u001b[0m\u001b[0m\n\u001b[1;32m   3616\u001b[0m     \u001b[0;32mdef\u001b[0m \u001b[0m__setattr__\u001b[0m\u001b[0;34m(\u001b[0m\u001b[0mself\u001b[0m\u001b[0;34m,\u001b[0m \u001b[0mname\u001b[0m\u001b[0;34m,\u001b[0m \u001b[0mvalue\u001b[0m\u001b[0;34m)\u001b[0m\u001b[0;34m:\u001b[0m\u001b[0;34m\u001b[0m\u001b[0;34m\u001b[0m\u001b[0m\n",
            "\u001b[0;31mAttributeError\u001b[0m: 'DataFrame' object has no attribute 'value_counts'"
          ]
        }
      ]
    },
    {
      "metadata": {
        "id": "03V3Wln_h0dj",
        "colab_type": "text"
      },
      "cell_type": "markdown",
      "source": [
        "2017 was the first year that China had more cell phones than people.\n",
        "\n",
        "What was the first year that the USA had more cell phones than people?"
      ]
    },
    {
      "metadata": {
        "id": "KONQkQZ3haNC",
        "colab_type": "code",
        "colab": {}
      },
      "cell_type": "code",
      "source": [
        ""
      ],
      "execution_count": 0,
      "outputs": []
    },
    {
      "metadata": {
        "id": "6J7iwMnTg8KZ",
        "colab_type": "text"
      },
      "cell_type": "markdown",
      "source": [
        "## Part 4. Reshape data"
      ]
    },
    {
      "metadata": {
        "id": "LP9InazRkUxG",
        "colab_type": "text"
      },
      "cell_type": "markdown",
      "source": [
        "Create a pivot table:\n",
        "- Columns: Years 2007—2017\n",
        "- Rows: China, India, United States, Indonesia, Brazil (order doesn't matter)\n",
        "- Values: Cell Phones Total\n",
        "\n",
        "The table's shape should be: (5, 11)"
      ]
    },
    {
      "metadata": {
        "id": "JD7mXXjLj4Ue",
        "colab_type": "code",
        "colab": {}
      },
      "cell_type": "code",
      "source": [
        ""
      ],
      "execution_count": 0,
      "outputs": []
    },
    {
      "metadata": {
        "id": "CNKTu2DCnAo6",
        "colab_type": "text"
      },
      "cell_type": "markdown",
      "source": [
        "#### OPTIONAL BONUS QUESTION!\n",
        "\n",
        "Sort these 5 countries, by biggest increase in cell phones from 2007 to 2017.\n",
        "\n",
        "Which country had 935,282,277 more cell phones in 2017 versus 2007?"
      ]
    },
    {
      "metadata": {
        "id": "O4Aecv1fmQlj",
        "colab_type": "code",
        "colab": {}
      },
      "cell_type": "code",
      "source": [
        ""
      ],
      "execution_count": 0,
      "outputs": []
    },
    {
      "metadata": {
        "id": "7iHkMsa3Rorh",
        "colab_type": "text"
      },
      "cell_type": "markdown",
      "source": [
        "If you have the time and curiosity, what other questions can you ask and answer with this data?"
      ]
    }
  ]
}